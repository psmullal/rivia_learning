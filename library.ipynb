{
 "cells": [
  {
   "cell_type": "code",
   "execution_count": 3,
   "metadata": {},
   "outputs": [
    {
     "output_type": "execute_result",
     "data": {
      "text/plain": "['Charles', 'Miles']"
     },
     "metadata": {},
     "execution_count": 3
    }
   ],
   "source": [
    "names = ['Pat', 'Charles' , 'Miles']\n",
    "[ i.upper() for i in names if 'e' in i ]\n"
   ]
  },
  {
   "cell_type": "code",
   "execution_count": 12,
   "metadata": {},
   "outputs": [
    {
     "output_type": "execute_result",
     "data": {
      "text/plain": "['charles']"
     },
     "metadata": {},
     "execution_count": 12
    }
   ],
   "source": [
    "people = ['Patrick', 'Miles', 'Charles']\n",
    "[ x.lower() for x in people if 'C' in x ]"
   ]
  },
  {
   "cell_type": "code",
   "execution_count": 1,
   "metadata": {},
   "outputs": [
    {
     "output_type": "stream",
     "name": "stdout",
     "text": "My name is Pat\n"
    }
   ],
   "source": [
    "name = 'Pat'\n",
    "print(f\"My name is {name}\")"
   ]
  },
  {
   "cell_type": "code",
   "execution_count": null,
   "metadata": {},
   "outputs": [],
   "source": []
  }
 ],
 "metadata": {
  "language_info": {
   "name": "python",
   "codemirror_mode": {
    "name": "ipython",
    "version": 3
   },
   "version": "3.7.7-final"
  },
  "orig_nbformat": 2,
  "file_extension": ".py",
  "mimetype": "text/x-python",
  "name": "python",
  "npconvert_exporter": "python",
  "pygments_lexer": "ipython3",
  "version": 3,
  "kernelspec": {
   "name": "python37764bitjupytervenv99b1a652ceec498dad9381b96722c624",
   "display_name": "Python 3.7.7 64-bit ('jupyter': venv)"
  }
 },
 "nbformat": 4,
 "nbformat_minor": 2
}